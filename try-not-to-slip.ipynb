{
 "cells": [
  {
   "cell_type": "code",
   "execution_count": 20,
   "metadata": {},
   "outputs": [],
   "source": [
    "import gym\n",
    "import numpy as np\n",
    "from tqdm.notebook import tnrange\n",
    "import random\n",
    "import matplotlib.pyplot as plt\n",
    "import matplotlib.ticker as ticker"
   ]
  },
  {
   "cell_type": "code",
   "execution_count": 9,
   "metadata": {},
   "outputs": [],
   "source": [
    "env = gym.make(\"FrozenLake-v0\")\n",
    "#env = gym.make(\"FrozenLake-v0\", is_slippery=False)"
   ]
  },
  {
   "cell_type": "code",
   "execution_count": 10,
   "metadata": {},
   "outputs": [],
   "source": [
    "action_space_size = env.action_space.n  #rows of q table\n",
    "state_space_size =  env.observation_space.n #cols of q table"
   ]
  },
  {
   "cell_type": "code",
   "execution_count": 11,
   "metadata": {
    "scrolled": false
   },
   "outputs": [
    {
     "name": "stdout",
     "output_type": "stream",
     "text": [
      "[[0. 0. 0. 0.]\n",
      " [0. 0. 0. 0.]\n",
      " [0. 0. 0. 0.]\n",
      " [0. 0. 0. 0.]\n",
      " [0. 0. 0. 0.]\n",
      " [0. 0. 0. 0.]\n",
      " [0. 0. 0. 0.]\n",
      " [0. 0. 0. 0.]\n",
      " [0. 0. 0. 0.]\n",
      " [0. 0. 0. 0.]\n",
      " [0. 0. 0. 0.]\n",
      " [0. 0. 0. 0.]\n",
      " [0. 0. 0. 0.]\n",
      " [0. 0. 0. 0.]\n",
      " [0. 0. 0. 0.]\n",
      " [0. 0. 0. 0.]]\n"
     ]
    }
   ],
   "source": [
    "#initiate q table with zeros\n",
    "q_table = np.zeros((state_space_size, action_space_size))\n",
    "print(q_table)"
   ]
  },
  {
   "cell_type": "code",
   "execution_count": 12,
   "metadata": {},
   "outputs": [],
   "source": [
    "num_episodes = 9500\n",
    "max_steps_per_episode = 100\n",
    "\n",
    "learning_rate = 0.1\n",
    "discount_rate = 0.99\n",
    "\n",
    "exploration_rate = 1\n",
    "max_exploration_rate = 1\n",
    "min_exploration_rate = 0.001\n",
    "exploration_decay_rate = 0.001"
   ]
  },
  {
   "cell_type": "code",
   "execution_count": 17,
   "metadata": {},
   "outputs": [
    {
     "data": {
      "application/vnd.jupyter.widget-view+json": {
       "model_id": "9d80faaeef0e4d0f8998bbc5fe72c3c6",
       "version_major": 2,
       "version_minor": 0
      },
      "text/plain": [
       "HBox(children=(FloatProgress(value=0.0, max=9500.0), HTML(value='')))"
      ]
     },
     "metadata": {},
     "output_type": "display_data"
    },
    {
     "name": "stdout",
     "output_type": "stream",
     "text": [
      "\n"
     ]
    }
   ],
   "source": [
    "rewards_all_episodes=[]\n",
    "for episode in tnrange(num_episodes):\n",
    "    \n",
    "    state = env.reset()\n",
    "    done=False\n",
    "    rewards_current_episode = 0\n",
    "    \n",
    "    for step in range(max_steps_per_episode):\n",
    "        exploration_switch = random.uniform(0,1)\n",
    "        \n",
    "        if exploration_switch > exploration_rate:\n",
    "            #exploit\n",
    "            action = np.argmax(q_table[state,:])\n",
    "        else:\n",
    "            #explore = sample an action randomly\n",
    "            action = env.action_space.sample()\n",
    "            \n",
    "        #action has been chosen, now step\n",
    "        new_state, reward, done, info = env.step(action)\n",
    "        \n",
    "        #update q table\n",
    "        q_table[state, action] = q_table[state, action] * (1 - learning_rate) + \\\n",
    "        learning_rate * (reward + discount_rate * np.max(q_table[new_state, :]))\n",
    "        #update state\n",
    "        state = new_state\n",
    "        \n",
    "        #update rewards\n",
    "        rewards_current_episode += reward\n",
    "        \n",
    "        if done==True:\n",
    "            break\n",
    "    \n",
    "    # Exploration rate decay\n",
    "    exploration_rate = min_exploration_rate + \\\n",
    "    (max_exploration_rate - min_exploration_rate) * np.exp(-exploration_decay_rate*episode)\n",
    "    \n",
    "    rewards_all_episodes.append(rewards_current_episode)\n",
    "    "
   ]
  },
  {
   "cell_type": "code",
   "execution_count": 22,
   "metadata": {},
   "outputs": [
    {
     "name": "stdout",
     "output_type": "stream",
     "text": [
      "[[0.52521087 0.47671617 0.48047233 0.47906213]\n",
      " [0.35085913 0.34160905 0.24309115 0.48318311]\n",
      " [0.41902397 0.38931675 0.41765603 0.45747838]\n",
      " [0.30766824 0.23812757 0.38053843 0.44327778]\n",
      " [0.55408156 0.33575365 0.42823025 0.30300344]\n",
      " [0.         0.         0.         0.        ]\n",
      " [0.26070434 0.12567661 0.16349221 0.17904416]\n",
      " [0.         0.         0.         0.        ]\n",
      " [0.42212534 0.41483501 0.36607316 0.58426809]\n",
      " [0.47281312 0.66406317 0.48855105 0.35832271]\n",
      " [0.58486558 0.32606821 0.34423679 0.33301631]\n",
      " [0.         0.         0.         0.        ]\n",
      " [0.         0.         0.         0.        ]\n",
      " [0.50798131 0.50580701 0.75725769 0.52051011]\n",
      " [0.70556995 0.89389773 0.70101002 0.69642091]\n",
      " [0.         0.         0.         0.        ]]\n"
     ]
    }
   ],
   "source": [
    "print(q_table)"
   ]
  },
  {
   "cell_type": "code",
   "execution_count": 21,
   "metadata": {},
   "outputs": [
    {
     "data": {
      "image/png": "[encoded data removed]",
      "text/plain": [
       "<Figure size 432x288 with 1 Axes>"
      ]
     },
     "metadata": {
      "needs_background": "light"
     },
     "output_type": "display_data"
    }
   ],
   "source": [
    "def plot_reward_per_n_episodes(total_num_episodes, rewards_all_episodes, n):\n",
    "    rewards_per_n_episodes = np.split(np.array(rewards_all_episodes),num_episodes/n)\n",
    "    list_of_rewards_per_n_episode = []\n",
    "    count=0\n",
    "\n",
    "    for r in rewards_per_n_episodes:\n",
    "        list_of_rewards_per_n_episode.append(str(sum(r/n)))\n",
    "        count += 100\n",
    "\n",
    "    fig, ax = plt.subplots(1,1)\n",
    "    x_list = [a for a in range(0,total_num_episodes, n)]\n",
    "    ax.plot(x_list, list_of_rewards_per_n_episode, label='Reward')\n",
    "    tick_spacing = 9\n",
    "    ax.yaxis.set_major_locator(ticker.MultipleLocator(tick_spacing))\n",
    "    plt.xlabel('Episodes played by the agent')\n",
    "    plt.ylabel('Reward')\n",
    "    plt.legend()\n",
    "    plt.grid()\n",
    "    \n",
    "plot_reward_per_n_episodes(num_episodes, rewards_all_episodes, 100)"
   ]
  }
 ],
 "metadata": {
  "kernelspec": {
   "display_name": "Python 3",
   "language": "python",
   "name": "python3"
  },
  "language_info": {
   "codemirror_mode": {
    "name": "ipython",
    "version": 3
   },
   "file_extension": ".py",
   "mimetype": "text/x-python",
   "name": "python",
   "nbconvert_exporter": "python",
   "pygments_lexer": "ipython3",
   "version": "3.7.6"
  }
 },
 "nbformat": 4,
 "nbformat_minor": 4
}
